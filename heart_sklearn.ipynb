{
  "nbformat": 4,
  "nbformat_minor": 0,
  "metadata": {
    "colab": {
      "name": "heart_sklearn.ipynb",
      "provenance": [],
      "authorship_tag": "ABX9TyNZSxve6FKuTeYa4CV+x5xC",
      "include_colab_link": true
    },
    "kernelspec": {
      "name": "python3",
      "display_name": "Python 3"
    },
    "language_info": {
      "name": "python"
    }
  },
  "cells": [
    {
      "cell_type": "markdown",
      "metadata": {
        "id": "view-in-github",
        "colab_type": "text"
      },
      "source": [
        "<a href=\"https://colab.research.google.com/github/mohsenshahii/Heart/blob/main/heart_sklearn.ipynb\" target=\"_parent\"><img src=\"https://colab.research.google.com/assets/colab-badge.svg\" alt=\"Open In Colab\"/></a>"
      ]
    },
    {
      "cell_type": "code",
      "execution_count": 110,
      "metadata": {
        "colab": {
          "base_uri": "https://localhost:8080/",
          "height": 270
        },
        "id": "Qnj7qnJOX9OA",
        "outputId": "a7b0dd7b-e843-4006-965c-f9b8bf392ead"
      },
      "outputs": [
        {
          "output_type": "execute_result",
          "data": {
            "text/plain": [
              "  HeartDisease    BMI Smoking AlcoholDrinking Stroke  PhysicalHealth  \\\n",
              "0           No  16.60     Yes              No     No             3.0   \n",
              "1           No  20.34      No              No    Yes             0.0   \n",
              "2           No  26.58     Yes              No     No            20.0   \n",
              "3           No  24.21      No              No     No             0.0   \n",
              "4           No  23.71      No              No     No            28.0   \n",
              "\n",
              "   MentalHealth DiffWalking     Sex  AgeCategory   Race Diabetic  \\\n",
              "0          30.0          No  Female        55-59  White      Yes   \n",
              "1           0.0          No  Female  80 or older  White       No   \n",
              "2          30.0          No    Male        65-69  White      Yes   \n",
              "3           0.0          No  Female        75-79  White       No   \n",
              "4           0.0         Yes  Female        40-44  White       No   \n",
              "\n",
              "  PhysicalActivity  GenHealth  SleepTime Asthma KidneyDisease SkinCancer  \n",
              "0              Yes  Very good        5.0    Yes            No        Yes  \n",
              "1              Yes  Very good        7.0     No            No         No  \n",
              "2              Yes       Fair        8.0    Yes            No         No  \n",
              "3               No       Good        6.0     No            No        Yes  \n",
              "4              Yes  Very good        8.0     No            No         No  "
            ],
            "text/html": [
              "\n",
              "  <div id=\"df-d1301b4d-43b7-4a61-ac22-7233b1da20a8\">\n",
              "    <div class=\"colab-df-container\">\n",
              "      <div>\n",
              "<style scoped>\n",
              "    .dataframe tbody tr th:only-of-type {\n",
              "        vertical-align: middle;\n",
              "    }\n",
              "\n",
              "    .dataframe tbody tr th {\n",
              "        vertical-align: top;\n",
              "    }\n",
              "\n",
              "    .dataframe thead th {\n",
              "        text-align: right;\n",
              "    }\n",
              "</style>\n",
              "<table border=\"1\" class=\"dataframe\">\n",
              "  <thead>\n",
              "    <tr style=\"text-align: right;\">\n",
              "      <th></th>\n",
              "      <th>HeartDisease</th>\n",
              "      <th>BMI</th>\n",
              "      <th>Smoking</th>\n",
              "      <th>AlcoholDrinking</th>\n",
              "      <th>Stroke</th>\n",
              "      <th>PhysicalHealth</th>\n",
              "      <th>MentalHealth</th>\n",
              "      <th>DiffWalking</th>\n",
              "      <th>Sex</th>\n",
              "      <th>AgeCategory</th>\n",
              "      <th>Race</th>\n",
              "      <th>Diabetic</th>\n",
              "      <th>PhysicalActivity</th>\n",
              "      <th>GenHealth</th>\n",
              "      <th>SleepTime</th>\n",
              "      <th>Asthma</th>\n",
              "      <th>KidneyDisease</th>\n",
              "      <th>SkinCancer</th>\n",
              "    </tr>\n",
              "  </thead>\n",
              "  <tbody>\n",
              "    <tr>\n",
              "      <th>0</th>\n",
              "      <td>No</td>\n",
              "      <td>16.60</td>\n",
              "      <td>Yes</td>\n",
              "      <td>No</td>\n",
              "      <td>No</td>\n",
              "      <td>3.0</td>\n",
              "      <td>30.0</td>\n",
              "      <td>No</td>\n",
              "      <td>Female</td>\n",
              "      <td>55-59</td>\n",
              "      <td>White</td>\n",
              "      <td>Yes</td>\n",
              "      <td>Yes</td>\n",
              "      <td>Very good</td>\n",
              "      <td>5.0</td>\n",
              "      <td>Yes</td>\n",
              "      <td>No</td>\n",
              "      <td>Yes</td>\n",
              "    </tr>\n",
              "    <tr>\n",
              "      <th>1</th>\n",
              "      <td>No</td>\n",
              "      <td>20.34</td>\n",
              "      <td>No</td>\n",
              "      <td>No</td>\n",
              "      <td>Yes</td>\n",
              "      <td>0.0</td>\n",
              "      <td>0.0</td>\n",
              "      <td>No</td>\n",
              "      <td>Female</td>\n",
              "      <td>80 or older</td>\n",
              "      <td>White</td>\n",
              "      <td>No</td>\n",
              "      <td>Yes</td>\n",
              "      <td>Very good</td>\n",
              "      <td>7.0</td>\n",
              "      <td>No</td>\n",
              "      <td>No</td>\n",
              "      <td>No</td>\n",
              "    </tr>\n",
              "    <tr>\n",
              "      <th>2</th>\n",
              "      <td>No</td>\n",
              "      <td>26.58</td>\n",
              "      <td>Yes</td>\n",
              "      <td>No</td>\n",
              "      <td>No</td>\n",
              "      <td>20.0</td>\n",
              "      <td>30.0</td>\n",
              "      <td>No</td>\n",
              "      <td>Male</td>\n",
              "      <td>65-69</td>\n",
              "      <td>White</td>\n",
              "      <td>Yes</td>\n",
              "      <td>Yes</td>\n",
              "      <td>Fair</td>\n",
              "      <td>8.0</td>\n",
              "      <td>Yes</td>\n",
              "      <td>No</td>\n",
              "      <td>No</td>\n",
              "    </tr>\n",
              "    <tr>\n",
              "      <th>3</th>\n",
              "      <td>No</td>\n",
              "      <td>24.21</td>\n",
              "      <td>No</td>\n",
              "      <td>No</td>\n",
              "      <td>No</td>\n",
              "      <td>0.0</td>\n",
              "      <td>0.0</td>\n",
              "      <td>No</td>\n",
              "      <td>Female</td>\n",
              "      <td>75-79</td>\n",
              "      <td>White</td>\n",
              "      <td>No</td>\n",
              "      <td>No</td>\n",
              "      <td>Good</td>\n",
              "      <td>6.0</td>\n",
              "      <td>No</td>\n",
              "      <td>No</td>\n",
              "      <td>Yes</td>\n",
              "    </tr>\n",
              "    <tr>\n",
              "      <th>4</th>\n",
              "      <td>No</td>\n",
              "      <td>23.71</td>\n",
              "      <td>No</td>\n",
              "      <td>No</td>\n",
              "      <td>No</td>\n",
              "      <td>28.0</td>\n",
              "      <td>0.0</td>\n",
              "      <td>Yes</td>\n",
              "      <td>Female</td>\n",
              "      <td>40-44</td>\n",
              "      <td>White</td>\n",
              "      <td>No</td>\n",
              "      <td>Yes</td>\n",
              "      <td>Very good</td>\n",
              "      <td>8.0</td>\n",
              "      <td>No</td>\n",
              "      <td>No</td>\n",
              "      <td>No</td>\n",
              "    </tr>\n",
              "  </tbody>\n",
              "</table>\n",
              "</div>\n",
              "      <button class=\"colab-df-convert\" onclick=\"convertToInteractive('df-d1301b4d-43b7-4a61-ac22-7233b1da20a8')\"\n",
              "              title=\"Convert this dataframe to an interactive table.\"\n",
              "              style=\"display:none;\">\n",
              "        \n",
              "  <svg xmlns=\"http://www.w3.org/2000/svg\" height=\"24px\"viewBox=\"0 0 24 24\"\n",
              "       width=\"24px\">\n",
              "    <path d=\"M0 0h24v24H0V0z\" fill=\"none\"/>\n",
              "    <path d=\"M18.56 5.44l.94 2.06.94-2.06 2.06-.94-2.06-.94-.94-2.06-.94 2.06-2.06.94zm-11 1L8.5 8.5l.94-2.06 2.06-.94-2.06-.94L8.5 2.5l-.94 2.06-2.06.94zm10 10l.94 2.06.94-2.06 2.06-.94-2.06-.94-.94-2.06-.94 2.06-2.06.94z\"/><path d=\"M17.41 7.96l-1.37-1.37c-.4-.4-.92-.59-1.43-.59-.52 0-1.04.2-1.43.59L10.3 9.45l-7.72 7.72c-.78.78-.78 2.05 0 2.83L4 21.41c.39.39.9.59 1.41.59.51 0 1.02-.2 1.41-.59l7.78-7.78 2.81-2.81c.8-.78.8-2.07 0-2.86zM5.41 20L4 18.59l7.72-7.72 1.47 1.35L5.41 20z\"/>\n",
              "  </svg>\n",
              "      </button>\n",
              "      \n",
              "  <style>\n",
              "    .colab-df-container {\n",
              "      display:flex;\n",
              "      flex-wrap:wrap;\n",
              "      gap: 12px;\n",
              "    }\n",
              "\n",
              "    .colab-df-convert {\n",
              "      background-color: #E8F0FE;\n",
              "      border: none;\n",
              "      border-radius: 50%;\n",
              "      cursor: pointer;\n",
              "      display: none;\n",
              "      fill: #1967D2;\n",
              "      height: 32px;\n",
              "      padding: 0 0 0 0;\n",
              "      width: 32px;\n",
              "    }\n",
              "\n",
              "    .colab-df-convert:hover {\n",
              "      background-color: #E2EBFA;\n",
              "      box-shadow: 0px 1px 2px rgba(60, 64, 67, 0.3), 0px 1px 3px 1px rgba(60, 64, 67, 0.15);\n",
              "      fill: #174EA6;\n",
              "    }\n",
              "\n",
              "    [theme=dark] .colab-df-convert {\n",
              "      background-color: #3B4455;\n",
              "      fill: #D2E3FC;\n",
              "    }\n",
              "\n",
              "    [theme=dark] .colab-df-convert:hover {\n",
              "      background-color: #434B5C;\n",
              "      box-shadow: 0px 1px 3px 1px rgba(0, 0, 0, 0.15);\n",
              "      filter: drop-shadow(0px 1px 2px rgba(0, 0, 0, 0.3));\n",
              "      fill: #FFFFFF;\n",
              "    }\n",
              "  </style>\n",
              "\n",
              "      <script>\n",
              "        const buttonEl =\n",
              "          document.querySelector('#df-d1301b4d-43b7-4a61-ac22-7233b1da20a8 button.colab-df-convert');\n",
              "        buttonEl.style.display =\n",
              "          google.colab.kernel.accessAllowed ? 'block' : 'none';\n",
              "\n",
              "        async function convertToInteractive(key) {\n",
              "          const element = document.querySelector('#df-d1301b4d-43b7-4a61-ac22-7233b1da20a8');\n",
              "          const dataTable =\n",
              "            await google.colab.kernel.invokeFunction('convertToInteractive',\n",
              "                                                     [key], {});\n",
              "          if (!dataTable) return;\n",
              "\n",
              "          const docLinkHtml = 'Like what you see? Visit the ' +\n",
              "            '<a target=\"_blank\" href=https://colab.research.google.com/notebooks/data_table.ipynb>data table notebook</a>'\n",
              "            + ' to learn more about interactive tables.';\n",
              "          element.innerHTML = '';\n",
              "          dataTable['output_type'] = 'display_data';\n",
              "          await google.colab.output.renderOutput(dataTable, element);\n",
              "          const docLink = document.createElement('div');\n",
              "          docLink.innerHTML = docLinkHtml;\n",
              "          element.appendChild(docLink);\n",
              "        }\n",
              "      </script>\n",
              "    </div>\n",
              "  </div>\n",
              "  "
            ]
          },
          "metadata": {},
          "execution_count": 110
        }
      ],
      "source": [
        "import pandas as pd\n",
        "import seaborn as sns\n",
        "heart_df = pd.read_csv('heart_2020_cleaned.csv')\n",
        "heart_df.head()"
      ]
    },
    {
      "cell_type": "code",
      "source": [
        "Age_Cat= heart_df.groupby('AgeCategory').sum()\n",
        "print(Age_Cat)"
      ],
      "metadata": {
        "id": "KVZXZNWhcNwU"
      },
      "execution_count": null,
      "outputs": []
    },
    {
      "cell_type": "code",
      "source": [
        "heart_df.replace('No', 1, inplace = True)\n",
        "heart_df.replace('Yes', 0, inplace = True)\n",
        "heart_df['Sex'].replace(['Female', 'Male'], [0, 1], inplace = True)\n",
        "heart_df['Race'].replace(['White', 'Hispanic', 'Black', 'Other', 'Asian', 'American Indian/Alaskan Native'], [1, 2, 3, 4, 5, 6] , inplace = True)\n",
        "heart_df['GenHealth'].replace(['Very good','Good', 'Excellent', 'Fair', 'Poor'], [5, 4, 3, 2, 1], inplace = True)\n",
        "heart_df['Diabetic'].replace(['No, borderline diabetes','Yes (during pregnancy)'], [3, 2], inplace = True)\n",
        "heart_df['AgeCategory'].replace(['18-24','25-29', '30-34', '35-39', '40-44', '45-49', '50-54', '55-59', '60-64', '65-69', '70-74', '75-79', '80 or older'], [13, 12, 11, 10, 9, 8, 7, 6, 5, 4, 3, 2, 1], inplace = True)"
      ],
      "metadata": {
        "id": "ONpJV3EHNnCf"
      },
      "execution_count": 111,
      "outputs": []
    },
    {
      "cell_type": "code",
      "source": [
        "#sns.pairplot(heart_df, hue='HeartDisease', height=1.5)"
      ],
      "metadata": {
        "id": "fMZvLx17tuJD"
      },
      "execution_count": null,
      "outputs": []
    },
    {
      "cell_type": "code",
      "source": [
        "y_heart = heart_df['HeartDisease']"
      ],
      "metadata": {
        "id": "4sc9mjJdaGHQ"
      },
      "execution_count": 113,
      "outputs": []
    },
    {
      "cell_type": "code",
      "source": [
        "x_heart = heart_df.drop('HeartDisease', axis=1)"
      ],
      "metadata": {
        "id": "63dMHdc4aQwx"
      },
      "execution_count": 114,
      "outputs": []
    },
    {
      "cell_type": "code",
      "source": [
        "from sklearn.model_selection import train_test_split"
      ],
      "metadata": {
        "id": "Aiod7hMaa8Ax"
      },
      "execution_count": 115,
      "outputs": []
    },
    {
      "cell_type": "code",
      "source": [
        "x_train, x_test, y_train, y_test = train_test_split(x_heart, y_heart, test_size=0.3, random_state=1)"
      ],
      "metadata": {
        "id": "LnN_zA17a9m4"
      },
      "execution_count": 116,
      "outputs": []
    },
    {
      "cell_type": "code",
      "source": [
        "from sklearn.naive_bayes import GaussianNB\n",
        "model = GaussianNB()\n",
        "model.fit(x_train, y_train)"
      ],
      "metadata": {
        "colab": {
          "base_uri": "https://localhost:8080/"
        },
        "id": "rCF9_ngMbZlY",
        "outputId": "2a51e4fc-6cca-43f5-e30e-db75792d86f2"
      },
      "execution_count": 117,
      "outputs": [
        {
          "output_type": "execute_result",
          "data": {
            "text/plain": [
              "GaussianNB()"
            ]
          },
          "metadata": {},
          "execution_count": 117
        }
      ]
    },
    {
      "cell_type": "code",
      "source": [
        "y_pred = model.predict(x_test)\n",
        "sum(y_pred == y_test) / len(y_pred)"
      ],
      "metadata": {
        "colab": {
          "base_uri": "https://localhost:8080/"
        },
        "id": "6J6Z6n8sbkwo",
        "outputId": "81021732-0cad-4934-c121-c20c5d29f48d"
      },
      "execution_count": 118,
      "outputs": [
        {
          "output_type": "execute_result",
          "data": {
            "text/plain": [
              "0.8455268451828766"
            ]
          },
          "metadata": {},
          "execution_count": 118
        }
      ]
    },
    {
      "cell_type": "code",
      "source": [
        "from sklearn.metrics import accuracy_score\n",
        "accuracy_score(y_test, y_pred)"
      ],
      "metadata": {
        "colab": {
          "base_uri": "https://localhost:8080/"
        },
        "id": "MUGJvGN2cCbh",
        "outputId": "06df243c-26b9-4677-ee8f-21827ddd7fbf"
      },
      "execution_count": 119,
      "outputs": [
        {
          "output_type": "execute_result",
          "data": {
            "text/plain": [
              "0.8455268451828766"
            ]
          },
          "metadata": {},
          "execution_count": 119
        }
      ]
    },
    {
      "cell_type": "code",
      "source": [
        ""
      ],
      "metadata": {
        "id": "RuRtjZMicNWw"
      },
      "execution_count": null,
      "outputs": []
    },
    {
      "cell_type": "code",
      "source": [
        "from sklearn.tree import DecisionTreeClassifier\n",
        "model = DecisionTreeClassifier()\n",
        "model.fit(x_train, y_train)"
      ],
      "metadata": {
        "colab": {
          "base_uri": "https://localhost:8080/"
        },
        "id": "yxVCr4-0xMLd",
        "outputId": "c9efe0b6-356e-4b2d-a7ce-c2bc7ce689eb"
      },
      "execution_count": 120,
      "outputs": [
        {
          "output_type": "execute_result",
          "data": {
            "text/plain": [
              "DecisionTreeClassifier()"
            ]
          },
          "metadata": {},
          "execution_count": 120
        }
      ]
    },
    {
      "cell_type": "code",
      "source": [
        "y_pred = model.predict(x_test)\n",
        "sum(y_pred == y_test) / len(y_pred)"
      ],
      "metadata": {
        "colab": {
          "base_uri": "https://localhost:8080/"
        },
        "id": "-_zjzQkXcRuA",
        "outputId": "728df384-0120-4548-cff0-9c033334007b"
      },
      "execution_count": 121,
      "outputs": [
        {
          "output_type": "execute_result",
          "data": {
            "text/plain": [
              "0.8616308279219087"
            ]
          },
          "metadata": {},
          "execution_count": 121
        }
      ]
    },
    {
      "cell_type": "code",
      "source": [
        "heart_df.hist(bins=100,figsize=(10,10))\n",
        "plt.show()"
      ],
      "metadata": {
        "colab": {
          "base_uri": "https://localhost:8080/",
          "height": 607
        },
        "id": "8J-M8A6tcTXf",
        "outputId": "66585ddc-fbad-41c2-ef21-703c0fb5604e"
      },
      "execution_count": 122,
      "outputs": [
        {
          "output_type": "display_data",
          "data": {
            "text/plain": [
              "<Figure size 720x720 with 20 Axes>"
            ],
            "image/png": "[encoded data removed]"
          },
          "metadata": {
            "needs_background": "light"
          }
        }
      ]
    },
    {
      "cell_type": "code",
      "source": [
        "import matplotlib.pyplot as plt\n",
        "import seaborn as sb"
      ],
      "metadata": {
        "id": "07rABGTzq1PF"
      },
      "execution_count": 123,
      "outputs": []
    },
    {
      "cell_type": "code",
      "source": [
        "plt.figure(figsize=(10,10))\n",
        "sb.heatmap(heart_df.corr())\n",
        "plt.show()"
      ],
      "metadata": {
        "colab": {
          "base_uri": "https://localhost:8080/",
          "height": 665
        },
        "id": "99dJZsy6wLZE",
        "outputId": "797a199e-df36-4293-e294-c71ff361fd94"
      },
      "execution_count": 124,
      "outputs": [
        {
          "output_type": "display_data",
          "data": {
            "text/plain": [
              "<Figure size 720x720 with 2 Axes>"
            ],
            "image/png": "[encoded data removed]"
          },
          "metadata": {
            "needs_background": "light"
          }
        }
      ]
    },
    {
      "cell_type": "code",
      "source": [
        "plt.plot(heart_df['BMI'],heart_df['HeartDisease'])\n",
        "plt.show()"
      ],
      "metadata": {
        "id": "txph3Dn-xpQz"
      },
      "execution_count": null,
      "outputs": []
    },
    {
      "cell_type": "code",
      "source": [
        "plt.figure(figsize=(10,6))\n",
        "plt.bar(heart_df['BMI'],heart_df['HeartDisease'])"
      ],
      "metadata": {
        "id": "2OLQgnWB0O_z"
      },
      "execution_count": null,
      "outputs": []
    },
    {
      "cell_type": "code",
      "source": [
        "heart_df['Race'].value_counts()"
      ],
      "metadata": {
        "colab": {
          "base_uri": "https://localhost:8080/"
        },
        "id": "PZgt6QKjPyrF",
        "outputId": "701ddf0e-61b9-40b6-98a1-ddce62504fab"
      },
      "execution_count": 102,
      "outputs": [
        {
          "output_type": "execute_result",
          "data": {
            "text/plain": [
              "1    245212\n",
              "2     27446\n",
              "3     22939\n",
              "4     10928\n",
              "5      8068\n",
              "6      5202\n",
              "Name: Race, dtype: int64"
            ]
          },
          "metadata": {},
          "execution_count": 102
        }
      ]
    },
    {
      "cell_type": "code",
      "source": [
        "heart_df.columns\n"
      ],
      "metadata": {
        "colab": {
          "base_uri": "https://localhost:8080/"
        },
        "id": "j4xS2_xEMA_I",
        "outputId": "45af388b-e06c-4ed5-c7a0-8233f0186491"
      },
      "execution_count": 17,
      "outputs": [
        {
          "output_type": "execute_result",
          "data": {
            "text/plain": [
              "Index(['HeartDisease', 'BMI', 'Smoking', 'AlcoholDrinking', 'Stroke',\n",
              "       'PhysicalHealth', 'MentalHealth', 'DiffWalking', 'Sex', 'AgeCategory',\n",
              "       'Race', 'Diabetic', 'PhysicalActivity', 'GenHealth', 'SleepTime',\n",
              "       'Asthma', 'KidneyDisease', 'SkinCancer'],\n",
              "      dtype='object')"
            ]
          },
          "metadata": {},
          "execution_count": 17
        }
      ]
    },
    {
      "cell_type": "code",
      "source": [
        "plt.figure(figsize=(20,12))\n",
        "plt.scatter(heart_df['PhysicalHealth'], heart_df['SleepTime'], c=heart_df['HeartDisease'])"
      ],
      "metadata": {
        "id": "kzCjI5BtLZQR"
      },
      "execution_count": null,
      "outputs": []
    },
    {
      "cell_type": "code",
      "source": [
        "plt.figure(figsize=(15,8))\n",
        "plt.pie(heart_df['Smoking'].value_counts())\n",
        "plt.show()"
      ],
      "metadata": {
        "colab": {
          "base_uri": "https://localhost:8080/",
          "height": 466
        },
        "id": "GbBJOSzDXPRU",
        "outputId": "c92eefd1-dead-42c0-fe70-507adc851277"
      },
      "execution_count": 126,
      "outputs": [
        {
          "output_type": "display_data",
          "data": {
            "text/plain": [
              "<Figure size 1080x576 with 1 Axes>"
            ],
            "image/png": "[encoded data removed]"
          },
          "metadata": {}
        }
      ]
    },
    {
      "cell_type": "code",
      "source": [
        "heart_df.groupby('AgeCategory').sum()"
      ],
      "metadata": {
        "colab": {
          "base_uri": "https://localhost:8080/",
          "height": 552
        },
        "id": "If1nVgJ2q-xv",
        "outputId": "334292c4-bc40-413b-bcfc-20c0b5e71e4f"
      },
      "execution_count": 127,
      "outputs": [
        {
          "output_type": "execute_result",
          "data": {
            "text/plain": [
              "             HeartDisease        BMI  Smoking  AlcoholDrinking  Stroke  \\\n",
              "AgeCategory                                                              \n",
              "1                   18704  633236.34    13626            23471   21855   \n",
              "2                   17433  592852.33    10728            20581   19772   \n",
              "3                   26218  875281.08    16140            29468   29174   \n",
              "4                   30050  979272.28    18588            32050   32446   \n",
              "5                   30359  970890.40    18250            31352   32203   \n",
              "6                   27555  865898.25    17085            27539   28656   \n",
              "7                   23999  746867.81    15409            23423   24697   \n",
              "8                   21047  642555.33    13066            20107   21363   \n",
              "9                   20520  613370.25    11925            19200   20713   \n",
              "10                  20254  592633.92    11908            18725   20357   \n",
              "11                  18527  533335.46    11581            17175   18622   \n",
              "12                  16822  469460.39    11801            15384   16865   \n",
              "13                  20934  542666.98    17780            19543   21003   \n",
              "\n",
              "             PhysicalHealth  MentalHealth  DiffWalking    Sex   Race  \\\n",
              "AgeCategory                                                            \n",
              "1                  108057.0       45946.0        16213   9437  30584   \n",
              "2                   89745.0       48986.0        16424   9292  27814   \n",
              "3                  121777.0       79606.0        24878  13976  41804   \n",
              "4                  131645.0       98614.0        28130  16103  47349   \n",
              "5                  145447.0      119604.0        27714  16114  48659   \n",
              "6                  119844.0      120693.0        25107  14270  44193   \n",
              "7                   91568.0      109695.0        22274  12047  39627   \n",
              "8                   65827.0       95569.0        19885  10353  35216   \n",
              "9                   54087.0       98207.0        19685  10054  34634   \n",
              "10                  46065.0      103773.0        19581  10092  34345   \n",
              "11                  37850.0       99251.0        18166   9623  32241   \n",
              "12                  30557.0       97137.0        16591   8999  29966   \n",
              "13                  35787.0      129597.0        20737  11630  37753   \n",
              "\n",
              "             Diabetic  PhysicalActivity  GenHealth  SleepTime  Asthma  \\\n",
              "AgeCategory                                                             \n",
              "1               21213              8689      89154   182133.0   21908   \n",
              "2               17955              6113      81163   159230.0   19078   \n",
              "3               26264              7813     117774   226984.0   27394   \n",
              "4               29548              8043     130109   245963.0   30031   \n",
              "5               29972              8111     126269   237793.0   29188   \n",
              "6               26996              6785     112274   207272.0   25814   \n",
              "7               23594              5638      96766   175749.0   21910   \n",
              "8               20820              4502      83801   150446.0   18656   \n",
              "9               20653              3940      81561   144457.0   17941   \n",
              "10              20631              3590      80206   140869.0   17671   \n",
              "11              18995              2995      73834   128883.0   15908   \n",
              "12              17198              2617      66844   118455.0   14087   \n",
              "13              21275              3002      83220   151375.0   17337   \n",
              "\n",
              "             KidneyDisease  SkinCancer  \n",
              "AgeCategory                             \n",
              "1                    22186       17918  \n",
              "2                    19883       16645  \n",
              "3                    29095       25500  \n",
              "4                    32462       29543  \n",
              "5                    32314       30348  \n",
              "6                    28759       27569  \n",
              "7                    24682       24093  \n",
              "8                    21340       21018  \n",
              "9                    20640       20592  \n",
              "10                   20294       20287  \n",
              "11                   18589       18594  \n",
              "12                   16840       16872  \n",
              "13                   20932       20997  "
            ],
            "text/html": [
              "\n",
              "  <div id=\"df-a39a8d20-e0b3-40b8-bd99-f90a0ac91e02\">\n",
              "    <div class=\"colab-df-container\">\n",
              "      <div>\n",
              "<style scoped>\n",
              "    .dataframe tbody tr th:only-of-type {\n",
              "        vertical-align: middle;\n",
              "    }\n",
              "\n",
              "    .dataframe tbody tr th {\n",
              "        vertical-align: top;\n",
              "    }\n",
              "\n",
              "    .dataframe thead th {\n",
              "        text-align: right;\n",
              "    }\n",
              "</style>\n",
              "<table border=\"1\" class=\"dataframe\">\n",
              "  <thead>\n",
              "    <tr style=\"text-align: right;\">\n",
              "      <th></th>\n",
              "      <th>HeartDisease</th>\n",
              "      <th>BMI</th>\n",
              "      <th>Smoking</th>\n",
              "      <th>AlcoholDrinking</th>\n",
              "      <th>Stroke</th>\n",
              "      <th>PhysicalHealth</th>\n",
              "      <th>MentalHealth</th>\n",
              "      <th>DiffWalking</th>\n",
              "      <th>Sex</th>\n",
              "      <th>Race</th>\n",
              "      <th>Diabetic</th>\n",
              "      <th>PhysicalActivity</th>\n",
              "      <th>GenHealth</th>\n",
              "      <th>SleepTime</th>\n",
              "      <th>Asthma</th>\n",
              "      <th>KidneyDisease</th>\n",
              "      <th>SkinCancer</th>\n",
              "    </tr>\n",
              "    <tr>\n",
              "      <th>AgeCategory</th>\n",
              "      <th></th>\n",
              "      <th></th>\n",
              "      <th></th>\n",
              "      <th></th>\n",
              "      <th></th>\n",
              "      <th></th>\n",
              "      <th></th>\n",
              "      <th></th>\n",
              "      <th></th>\n",
              "      <th></th>\n",
              "      <th></th>\n",
              "      <th></th>\n",
              "      <th></th>\n",
              "      <th></th>\n",
              "      <th></th>\n",
              "      <th></th>\n",
              "      <th></th>\n",
              "    </tr>\n",
              "  </thead>\n",
              "  <tbody>\n",
              "    <tr>\n",
              "      <th>1</th>\n",
              "      <td>18704</td>\n",
              "      <td>633236.34</td>\n",
              "      <td>13626</td>\n",
              "      <td>23471</td>\n",
              "      <td>21855</td>\n",
              "      <td>108057.0</td>\n",
              "      <td>45946.0</td>\n",
              "      <td>16213</td>\n",
              "      <td>9437</td>\n",
              "      <td>30584</td>\n",
              "      <td>21213</td>\n",
              "      <td>8689</td>\n",
              "      <td>89154</td>\n",
              "      <td>182133.0</td>\n",
              "      <td>21908</td>\n",
              "      <td>22186</td>\n",
              "      <td>17918</td>\n",
              "    </tr>\n",
              "    <tr>\n",
              "      <th>2</th>\n",
              "      <td>17433</td>\n",
              "      <td>592852.33</td>\n",
              "      <td>10728</td>\n",
              "      <td>20581</td>\n",
              "      <td>19772</td>\n",
              "      <td>89745.0</td>\n",
              "      <td>48986.0</td>\n",
              "      <td>16424</td>\n",
              "      <td>9292</td>\n",
              "      <td>27814</td>\n",
              "      <td>17955</td>\n",
              "      <td>6113</td>\n",
              "      <td>81163</td>\n",
              "      <td>159230.0</td>\n",
              "      <td>19078</td>\n",
              "      <td>19883</td>\n",
              "      <td>16645</td>\n",
              "    </tr>\n",
              "    <tr>\n",
              "      <th>3</th>\n",
              "      <td>26218</td>\n",
              "      <td>875281.08</td>\n",
              "      <td>16140</td>\n",
              "      <td>29468</td>\n",
              "      <td>29174</td>\n",
              "      <td>121777.0</td>\n",
              "      <td>79606.0</td>\n",
              "      <td>24878</td>\n",
              "      <td>13976</td>\n",
              "      <td>41804</td>\n",
              "      <td>26264</td>\n",
              "      <td>7813</td>\n",
              "      <td>117774</td>\n",
              "      <td>226984.0</td>\n",
              "      <td>27394</td>\n",
              "      <td>29095</td>\n",
              "      <td>25500</td>\n",
              "    </tr>\n",
              "    <tr>\n",
              "      <th>4</th>\n",
              "      <td>30050</td>\n",
              "      <td>979272.28</td>\n",
              "      <td>18588</td>\n",
              "      <td>32050</td>\n",
              "      <td>32446</td>\n",
              "      <td>131645.0</td>\n",
              "      <td>98614.0</td>\n",
              "      <td>28130</td>\n",
              "      <td>16103</td>\n",
              "      <td>47349</td>\n",
              "      <td>29548</td>\n",
              "      <td>8043</td>\n",
              "      <td>130109</td>\n",
              "      <td>245963.0</td>\n",
              "      <td>30031</td>\n",
              "      <td>32462</td>\n",
              "      <td>29543</td>\n",
              "    </tr>\n",
              "    <tr>\n",
              "      <th>5</th>\n",
              "      <td>30359</td>\n",
              "      <td>970890.40</td>\n",
              "      <td>18250</td>\n",
              "      <td>31352</td>\n",
              "      <td>32203</td>\n",
              "      <td>145447.0</td>\n",
              "      <td>119604.0</td>\n",
              "      <td>27714</td>\n",
              "      <td>16114</td>\n",
              "      <td>48659</td>\n",
              "      <td>29972</td>\n",
              "      <td>8111</td>\n",
              "      <td>126269</td>\n",
              "      <td>237793.0</td>\n",
              "      <td>29188</td>\n",
              "      <td>32314</td>\n",
              "      <td>30348</td>\n",
              "    </tr>\n",
              "    <tr>\n",
              "      <th>6</th>\n",
              "      <td>27555</td>\n",
              "      <td>865898.25</td>\n",
              "      <td>17085</td>\n",
              "      <td>27539</td>\n",
              "      <td>28656</td>\n",
              "      <td>119844.0</td>\n",
              "      <td>120693.0</td>\n",
              "      <td>25107</td>\n",
              "      <td>14270</td>\n",
              "      <td>44193</td>\n",
              "      <td>26996</td>\n",
              "      <td>6785</td>\n",
              "      <td>112274</td>\n",
              "      <td>207272.0</td>\n",
              "      <td>25814</td>\n",
              "      <td>28759</td>\n",
              "      <td>27569</td>\n",
              "    </tr>\n",
              "    <tr>\n",
              "      <th>7</th>\n",
              "      <td>23999</td>\n",
              "      <td>746867.81</td>\n",
              "      <td>15409</td>\n",
              "      <td>23423</td>\n",
              "      <td>24697</td>\n",
              "      <td>91568.0</td>\n",
              "      <td>109695.0</td>\n",
              "      <td>22274</td>\n",
              "      <td>12047</td>\n",
              "      <td>39627</td>\n",
              "      <td>23594</td>\n",
              "      <td>5638</td>\n",
              "      <td>96766</td>\n",
              "      <td>175749.0</td>\n",
              "      <td>21910</td>\n",
              "      <td>24682</td>\n",
              "      <td>24093</td>\n",
              "    </tr>\n",
              "    <tr>\n",
              "      <th>8</th>\n",
              "      <td>21047</td>\n",
              "      <td>642555.33</td>\n",
              "      <td>13066</td>\n",
              "      <td>20107</td>\n",
              "      <td>21363</td>\n",
              "      <td>65827.0</td>\n",
              "      <td>95569.0</td>\n",
              "      <td>19885</td>\n",
              "      <td>10353</td>\n",
              "      <td>35216</td>\n",
              "      <td>20820</td>\n",
              "      <td>4502</td>\n",
              "      <td>83801</td>\n",
              "      <td>150446.0</td>\n",
              "      <td>18656</td>\n",
              "      <td>21340</td>\n",
              "      <td>21018</td>\n",
              "    </tr>\n",
              "    <tr>\n",
              "      <th>9</th>\n",
              "      <td>20520</td>\n",
              "      <td>613370.25</td>\n",
              "      <td>11925</td>\n",
              "      <td>19200</td>\n",
              "      <td>20713</td>\n",
              "      <td>54087.0</td>\n",
              "      <td>98207.0</td>\n",
              "      <td>19685</td>\n",
              "      <td>10054</td>\n",
              "      <td>34634</td>\n",
              "      <td>20653</td>\n",
              "      <td>3940</td>\n",
              "      <td>81561</td>\n",
              "      <td>144457.0</td>\n",
              "      <td>17941</td>\n",
              "      <td>20640</td>\n",
              "      <td>20592</td>\n",
              "    </tr>\n",
              "    <tr>\n",
              "      <th>10</th>\n",
              "      <td>20254</td>\n",
              "      <td>592633.92</td>\n",
              "      <td>11908</td>\n",
              "      <td>18725</td>\n",
              "      <td>20357</td>\n",
              "      <td>46065.0</td>\n",
              "      <td>103773.0</td>\n",
              "      <td>19581</td>\n",
              "      <td>10092</td>\n",
              "      <td>34345</td>\n",
              "      <td>20631</td>\n",
              "      <td>3590</td>\n",
              "      <td>80206</td>\n",
              "      <td>140869.0</td>\n",
              "      <td>17671</td>\n",
              "      <td>20294</td>\n",
              "      <td>20287</td>\n",
              "    </tr>\n",
              "    <tr>\n",
              "      <th>11</th>\n",
              "      <td>18527</td>\n",
              "      <td>533335.46</td>\n",
              "      <td>11581</td>\n",
              "      <td>17175</td>\n",
              "      <td>18622</td>\n",
              "      <td>37850.0</td>\n",
              "      <td>99251.0</td>\n",
              "      <td>18166</td>\n",
              "      <td>9623</td>\n",
              "      <td>32241</td>\n",
              "      <td>18995</td>\n",
              "      <td>2995</td>\n",
              "      <td>73834</td>\n",
              "      <td>128883.0</td>\n",
              "      <td>15908</td>\n",
              "      <td>18589</td>\n",
              "      <td>18594</td>\n",
              "    </tr>\n",
              "    <tr>\n",
              "      <th>12</th>\n",
              "      <td>16822</td>\n",
              "      <td>469460.39</td>\n",
              "      <td>11801</td>\n",
              "      <td>15384</td>\n",
              "      <td>16865</td>\n",
              "      <td>30557.0</td>\n",
              "      <td>97137.0</td>\n",
              "      <td>16591</td>\n",
              "      <td>8999</td>\n",
              "      <td>29966</td>\n",
              "      <td>17198</td>\n",
              "      <td>2617</td>\n",
              "      <td>66844</td>\n",
              "      <td>118455.0</td>\n",
              "      <td>14087</td>\n",
              "      <td>16840</td>\n",
              "      <td>16872</td>\n",
              "    </tr>\n",
              "    <tr>\n",
              "      <th>13</th>\n",
              "      <td>20934</td>\n",
              "      <td>542666.98</td>\n",
              "      <td>17780</td>\n",
              "      <td>19543</td>\n",
              "      <td>21003</td>\n",
              "      <td>35787.0</td>\n",
              "      <td>129597.0</td>\n",
              "      <td>20737</td>\n",
              "      <td>11630</td>\n",
              "      <td>37753</td>\n",
              "      <td>21275</td>\n",
              "      <td>3002</td>\n",
              "      <td>83220</td>\n",
              "      <td>151375.0</td>\n",
              "      <td>17337</td>\n",
              "      <td>20932</td>\n",
              "      <td>20997</td>\n",
              "    </tr>\n",
              "  </tbody>\n",
              "</table>\n",
              "</div>\n",
              "      <button class=\"colab-df-convert\" onclick=\"convertToInteractive('df-a39a8d20-e0b3-40b8-bd99-f90a0ac91e02')\"\n",
              "              title=\"Convert this dataframe to an interactive table.\"\n",
              "              style=\"display:none;\">\n",
              "        \n",
              "  <svg xmlns=\"http://www.w3.org/2000/svg\" height=\"24px\"viewBox=\"0 0 24 24\"\n",
              "       width=\"24px\">\n",
              "    <path d=\"M0 0h24v24H0V0z\" fill=\"none\"/>\n",
              "    <path d=\"M18.56 5.44l.94 2.06.94-2.06 2.06-.94-2.06-.94-.94-2.06-.94 2.06-2.06.94zm-11 1L8.5 8.5l.94-2.06 2.06-.94-2.06-.94L8.5 2.5l-.94 2.06-2.06.94zm10 10l.94 2.06.94-2.06 2.06-.94-2.06-.94-.94-2.06-.94 2.06-2.06.94z\"/><path d=\"M17.41 7.96l-1.37-1.37c-.4-.4-.92-.59-1.43-.59-.52 0-1.04.2-1.43.59L10.3 9.45l-7.72 7.72c-.78.78-.78 2.05 0 2.83L4 21.41c.39.39.9.59 1.41.59.51 0 1.02-.2 1.41-.59l7.78-7.78 2.81-2.81c.8-.78.8-2.07 0-2.86zM5.41 20L4 18.59l7.72-7.72 1.47 1.35L5.41 20z\"/>\n",
              "  </svg>\n",
              "      </button>\n",
              "      \n",
              "  <style>\n",
              "    .colab-df-container {\n",
              "      display:flex;\n",
              "      flex-wrap:wrap;\n",
              "      gap: 12px;\n",
              "    }\n",
              "\n",
              "    .colab-df-convert {\n",
              "      background-color: #E8F0FE;\n",
              "      border: none;\n",
              "      border-radius: 50%;\n",
              "      cursor: pointer;\n",
              "      display: none;\n",
              "      fill: #1967D2;\n",
              "      height: 32px;\n",
              "      padding: 0 0 0 0;\n",
              "      width: 32px;\n",
              "    }\n",
              "\n",
              "    .colab-df-convert:hover {\n",
              "      background-color: #E2EBFA;\n",
              "      box-shadow: 0px 1px 2px rgba(60, 64, 67, 0.3), 0px 1px 3px 1px rgba(60, 64, 67, 0.15);\n",
              "      fill: #174EA6;\n",
              "    }\n",
              "\n",
              "    [theme=dark] .colab-df-convert {\n",
              "      background-color: #3B4455;\n",
              "      fill: #D2E3FC;\n",
              "    }\n",
              "\n",
              "    [theme=dark] .colab-df-convert:hover {\n",
              "      background-color: #434B5C;\n",
              "      box-shadow: 0px 1px 3px 1px rgba(0, 0, 0, 0.15);\n",
              "      filter: drop-shadow(0px 1px 2px rgba(0, 0, 0, 0.3));\n",
              "      fill: #FFFFFF;\n",
              "    }\n",
              "  </style>\n",
              "\n",
              "      <script>\n",
              "        const buttonEl =\n",
              "          document.querySelector('#df-a39a8d20-e0b3-40b8-bd99-f90a0ac91e02 button.colab-df-convert');\n",
              "        buttonEl.style.display =\n",
              "          google.colab.kernel.accessAllowed ? 'block' : 'none';\n",
              "\n",
              "        async function convertToInteractive(key) {\n",
              "          const element = document.querySelector('#df-a39a8d20-e0b3-40b8-bd99-f90a0ac91e02');\n",
              "          const dataTable =\n",
              "            await google.colab.kernel.invokeFunction('convertToInteractive',\n",
              "                                                     [key], {});\n",
              "          if (!dataTable) return;\n",
              "\n",
              "          const docLinkHtml = 'Like what you see? Visit the ' +\n",
              "            '<a target=\"_blank\" href=https://colab.research.google.com/notebooks/data_table.ipynb>data table notebook</a>'\n",
              "            + ' to learn more about interactive tables.';\n",
              "          element.innerHTML = '';\n",
              "          dataTable['output_type'] = 'display_data';\n",
              "          await google.colab.output.renderOutput(dataTable, element);\n",
              "          const docLink = document.createElement('div');\n",
              "          docLink.innerHTML = docLinkHtml;\n",
              "          element.appendChild(docLink);\n",
              "        }\n",
              "      </script>\n",
              "    </div>\n",
              "  </div>\n",
              "  "
            ]
          },
          "metadata": {},
          "execution_count": 127
        }
      ]
    },
    {
      "cell_type": "code",
      "source": [
        "temp = heart_df.groupby('AgeCategory').sum()\n",
        "plt.figure(figsize=(15,8))\n",
        "plt.pie(temp['Smoking'], labels='age ' + Age_Cat.index, autopct=lambda x:str(x)[:4])\n",
        "plt.show()"
      ],
      "metadata": {
        "colab": {
          "base_uri": "https://localhost:8080/",
          "height": 466
        },
        "id": "Tc3ONqX3rCoB",
        "outputId": "61369860-9436-4fba-a5ce-661d4d8087b0"
      },
      "execution_count": 128,
      "outputs": [
        {
          "output_type": "display_data",
          "data": {
            "text/plain": [
              "<Figure size 1080x576 with 1 Axes>"
            ],
            "image/png": "[encoded data removed]"
          },
          "metadata": {}
        }
      ]
    }
  ]
}