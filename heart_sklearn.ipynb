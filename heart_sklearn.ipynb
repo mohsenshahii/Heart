{
  "nbformat": 4,
  "nbformat_minor": 0,
  "metadata": {
    "colab": {
      "name": "heart_sklearn.ipynb",
      "provenance": [],
      "authorship_tag": "ABX9TyMHTVJq55vtuKKd6y4K9h0N",
      "include_colab_link": true
    },
    "kernelspec": {
      "name": "python3",
      "display_name": "Python 3"
    },
    "language_info": {
      "name": "python"
    }
  },
  "cells": [
    {
      "cell_type": "markdown",
      "metadata": {
        "id": "view-in-github",
        "colab_type": "text"
      },
      "source": [
        "<a href=\"https://colab.research.google.com/github/mohsenshahii/Heart/blob/main/heart_sklearn.ipynb\" target=\"_parent\"><img src=\"https://colab.research.google.com/assets/colab-badge.svg\" alt=\"Open In Colab\"/></a>"
      ]
    },
    {
      "cell_type": "markdown",
      "source": [
        "# importing Pandas and Seaborn libraries and introducing our Data set"
      ],
      "metadata": {
        "id": "1_eBBXJmwkbW"
      }
    },
    {
      "cell_type": "code",
      "execution_count": 4,
      "metadata": {
        "id": "Qnj7qnJOX9OA",
        "colab": {
          "base_uri": "https://localhost:8080/",
          "height": 270
        },
        "outputId": "1f943173-6b01-4a9e-a623-7aabc1071e44"
      },
      "outputs": [
        {
          "output_type": "execute_result",
          "data": {
            "text/plain": [
              "  HeartDisease    BMI Smoking AlcoholDrinking Stroke  PhysicalHealth  \\\n",
              "0           No  16.60     Yes              No     No             3.0   \n",
              "1           No  20.34      No              No    Yes             0.0   \n",
              "2           No  26.58     Yes              No     No            20.0   \n",
              "3           No  24.21      No              No     No             0.0   \n",
              "4           No  23.71      No              No     No            28.0   \n",
              "\n",
              "   MentalHealth DiffWalking     Sex  AgeCategory   Race Diabetic  \\\n",
              "0          30.0          No  Female        55-59  White      Yes   \n",
              "1           0.0          No  Female  80 or older  White       No   \n",
              "2          30.0          No    Male        65-69  White      Yes   \n",
              "3           0.0          No  Female        75-79  White       No   \n",
              "4           0.0         Yes  Female        40-44  White       No   \n",
              "\n",
              "  PhysicalActivity  GenHealth  SleepTime Asthma KidneyDisease SkinCancer  \n",
              "0              Yes  Very good        5.0    Yes            No        Yes  \n",
              "1              Yes  Very good        7.0     No            No         No  \n",
              "2              Yes       Fair        8.0    Yes            No         No  \n",
              "3               No       Good        6.0     No            No        Yes  \n",
              "4              Yes  Very good        8.0     No            No         No  "
            ],
            "text/html": [
              "\n",
              "  <div id=\"df-b97702c3-ee92-45da-949b-deec7ff3f625\">\n",
              "    <div class=\"colab-df-container\">\n",
              "      <div>\n",
              "<style scoped>\n",
              "    .dataframe tbody tr th:only-of-type {\n",
              "        vertical-align: middle;\n",
              "    }\n",
              "\n",
              "    .dataframe tbody tr th {\n",
              "        vertical-align: top;\n",
              "    }\n",
              "\n",
              "    .dataframe thead th {\n",
              "        text-align: right;\n",
              "    }\n",
              "</style>\n",
              "<table border=\"1\" class=\"dataframe\">\n",
              "  <thead>\n",
              "    <tr style=\"text-align: right;\">\n",
              "      <th></th>\n",
              "      <th>HeartDisease</th>\n",
              "      <th>BMI</th>\n",
              "      <th>Smoking</th>\n",
              "      <th>AlcoholDrinking</th>\n",
              "      <th>Stroke</th>\n",
              "      <th>PhysicalHealth</th>\n",
              "      <th>MentalHealth</th>\n",
              "      <th>DiffWalking</th>\n",
              "      <th>Sex</th>\n",
              "      <th>AgeCategory</th>\n",
              "      <th>Race</th>\n",
              "      <th>Diabetic</th>\n",
              "      <th>PhysicalActivity</th>\n",
              "      <th>GenHealth</th>\n",
              "      <th>SleepTime</th>\n",
              "      <th>Asthma</th>\n",
              "      <th>KidneyDisease</th>\n",
              "      <th>SkinCancer</th>\n",
              "    </tr>\n",
              "  </thead>\n",
              "  <tbody>\n",
              "    <tr>\n",
              "      <th>0</th>\n",
              "      <td>No</td>\n",
              "      <td>16.60</td>\n",
              "      <td>Yes</td>\n",
              "      <td>No</td>\n",
              "      <td>No</td>\n",
              "      <td>3.0</td>\n",
              "      <td>30.0</td>\n",
              "      <td>No</td>\n",
              "      <td>Female</td>\n",
              "      <td>55-59</td>\n",
              "      <td>White</td>\n",
              "      <td>Yes</td>\n",
              "      <td>Yes</td>\n",
              "      <td>Very good</td>\n",
              "      <td>5.0</td>\n",
              "      <td>Yes</td>\n",
              "      <td>No</td>\n",
              "      <td>Yes</td>\n",
              "    </tr>\n",
              "    <tr>\n",
              "      <th>1</th>\n",
              "      <td>No</td>\n",
              "      <td>20.34</td>\n",
              "      <td>No</td>\n",
              "      <td>No</td>\n",
              "      <td>Yes</td>\n",
              "      <td>0.0</td>\n",
              "      <td>0.0</td>\n",
              "      <td>No</td>\n",
              "      <td>Female</td>\n",
              "      <td>80 or older</td>\n",
              "      <td>White</td>\n",
              "      <td>No</td>\n",
              "      <td>Yes</td>\n",
              "      <td>Very good</td>\n",
              "      <td>7.0</td>\n",
              "      <td>No</td>\n",
              "      <td>No</td>\n",
              "      <td>No</td>\n",
              "    </tr>\n",
              "    <tr>\n",
              "      <th>2</th>\n",
              "      <td>No</td>\n",
              "      <td>26.58</td>\n",
              "      <td>Yes</td>\n",
              "      <td>No</td>\n",
              "      <td>No</td>\n",
              "      <td>20.0</td>\n",
              "      <td>30.0</td>\n",
              "      <td>No</td>\n",
              "      <td>Male</td>\n",
              "      <td>65-69</td>\n",
              "      <td>White</td>\n",
              "      <td>Yes</td>\n",
              "      <td>Yes</td>\n",
              "      <td>Fair</td>\n",
              "      <td>8.0</td>\n",
              "      <td>Yes</td>\n",
              "      <td>No</td>\n",
              "      <td>No</td>\n",
              "    </tr>\n",
              "    <tr>\n",
              "      <th>3</th>\n",
              "      <td>No</td>\n",
              "      <td>24.21</td>\n",
              "      <td>No</td>\n",
              "      <td>No</td>\n",
              "      <td>No</td>\n",
              "      <td>0.0</td>\n",
              "      <td>0.0</td>\n",
              "      <td>No</td>\n",
              "      <td>Female</td>\n",
              "      <td>75-79</td>\n",
              "      <td>White</td>\n",
              "      <td>No</td>\n",
              "      <td>No</td>\n",
              "      <td>Good</td>\n",
              "      <td>6.0</td>\n",
              "      <td>No</td>\n",
              "      <td>No</td>\n",
              "      <td>Yes</td>\n",
              "    </tr>\n",
              "    <tr>\n",
              "      <th>4</th>\n",
              "      <td>No</td>\n",
              "      <td>23.71</td>\n",
              "      <td>No</td>\n",
              "      <td>No</td>\n",
              "      <td>No</td>\n",
              "      <td>28.0</td>\n",
              "      <td>0.0</td>\n",
              "      <td>Yes</td>\n",
              "      <td>Female</td>\n",
              "      <td>40-44</td>\n",
              "      <td>White</td>\n",
              "      <td>No</td>\n",
              "      <td>Yes</td>\n",
              "      <td>Very good</td>\n",
              "      <td>8.0</td>\n",
              "      <td>No</td>\n",
              "      <td>No</td>\n",
              "      <td>No</td>\n",
              "    </tr>\n",
              "  </tbody>\n",
              "</table>\n",
              "</div>\n",
              "      <button class=\"colab-df-convert\" onclick=\"convertToInteractive('df-b97702c3-ee92-45da-949b-deec7ff3f625')\"\n",
              "              title=\"Convert this dataframe to an interactive table.\"\n",
              "              style=\"display:none;\">\n",
              "        \n",
              "  <svg xmlns=\"http://www.w3.org/2000/svg\" height=\"24px\"viewBox=\"0 0 24 24\"\n",
              "       width=\"24px\">\n",
              "    <path d=\"M0 0h24v24H0V0z\" fill=\"none\"/>\n",
              "    <path d=\"M18.56 5.44l.94 2.06.94-2.06 2.06-.94-2.06-.94-.94-2.06-.94 2.06-2.06.94zm-11 1L8.5 8.5l.94-2.06 2.06-.94-2.06-.94L8.5 2.5l-.94 2.06-2.06.94zm10 10l.94 2.06.94-2.06 2.06-.94-2.06-.94-.94-2.06-.94 2.06-2.06.94z\"/><path d=\"M17.41 7.96l-1.37-1.37c-.4-.4-.92-.59-1.43-.59-.52 0-1.04.2-1.43.59L10.3 9.45l-7.72 7.72c-.78.78-.78 2.05 0 2.83L4 21.41c.39.39.9.59 1.41.59.51 0 1.02-.2 1.41-.59l7.78-7.78 2.81-2.81c.8-.78.8-2.07 0-2.86zM5.41 20L4 18.59l7.72-7.72 1.47 1.35L5.41 20z\"/>\n",
              "  </svg>\n",
              "      </button>\n",
              "      \n",
              "  <style>\n",
              "    .colab-df-container {\n",
              "      display:flex;\n",
              "      flex-wrap:wrap;\n",
              "      gap: 12px;\n",
              "    }\n",
              "\n",
              "    .colab-df-convert {\n",
              "      background-color: #E8F0FE;\n",
              "      border: none;\n",
              "      border-radius: 50%;\n",
              "      cursor: pointer;\n",
              "      display: none;\n",
              "      fill: #1967D2;\n",
              "      height: 32px;\n",
              "      padding: 0 0 0 0;\n",
              "      width: 32px;\n",
              "    }\n",
              "\n",
              "    .colab-df-convert:hover {\n",
              "      background-color: #E2EBFA;\n",
              "      box-shadow: 0px 1px 2px rgba(60, 64, 67, 0.3), 0px 1px 3px 1px rgba(60, 64, 67, 0.15);\n",
              "      fill: #174EA6;\n",
              "    }\n",
              "\n",
              "    [theme=dark] .colab-df-convert {\n",
              "      background-color: #3B4455;\n",
              "      fill: #D2E3FC;\n",
              "    }\n",
              "\n",
              "    [theme=dark] .colab-df-convert:hover {\n",
              "      background-color: #434B5C;\n",
              "      box-shadow: 0px 1px 3px 1px rgba(0, 0, 0, 0.15);\n",
              "      filter: drop-shadow(0px 1px 2px rgba(0, 0, 0, 0.3));\n",
              "      fill: #FFFFFF;\n",
              "    }\n",
              "  </style>\n",
              "\n",
              "      <script>\n",
              "        const buttonEl =\n",
              "          document.querySelector('#df-b97702c3-ee92-45da-949b-deec7ff3f625 button.colab-df-convert');\n",
              "        buttonEl.style.display =\n",
              "          google.colab.kernel.accessAllowed ? 'block' : 'none';\n",
              "\n",
              "        async function convertToInteractive(key) {\n",
              "          const element = document.querySelector('#df-b97702c3-ee92-45da-949b-deec7ff3f625');\n",
              "          const dataTable =\n",
              "            await google.colab.kernel.invokeFunction('convertToInteractive',\n",
              "                                                     [key], {});\n",
              "          if (!dataTable) return;\n",
              "\n",
              "          const docLinkHtml = 'Like what you see? Visit the ' +\n",
              "            '<a target=\"_blank\" href=https://colab.research.google.com/notebooks/data_table.ipynb>data table notebook</a>'\n",
              "            + ' to learn more about interactive tables.';\n",
              "          element.innerHTML = '';\n",
              "          dataTable['output_type'] = 'display_data';\n",
              "          await google.colab.output.renderOutput(dataTable, element);\n",
              "          const docLink = document.createElement('div');\n",
              "          docLink.innerHTML = docLinkHtml;\n",
              "          element.appendChild(docLink);\n",
              "        }\n",
              "      </script>\n",
              "    </div>\n",
              "  </div>\n",
              "  "
            ]
          },
          "metadata": {},
          "execution_count": 4
        }
      ],
      "source": [
        "import pandas as pd\n",
        "import seaborn as sb\n",
        "from sklearn.metrics import confusion_matrix\n",
        "heart_df = pd.read_csv('heart_2020_cleaned.csv')\n",
        "heart_df.head()"
      ]
    },
    {
      "cell_type": "code",
      "source": [
        "Age_Cat= heart_df.groupby('AgeCategory').sum()\n",
        "print(Age_Cat)"
      ],
      "metadata": {
        "id": "KVZXZNWhcNwU"
      },
      "execution_count": null,
      "outputs": []
    },
    {
      "cell_type": "code",
      "source": [
        "heart_df['DiffWalking'].value_counts()"
      ],
      "metadata": {
        "id": "9AbU7eI37nu0"
      },
      "execution_count": null,
      "outputs": []
    },
    {
      "cell_type": "markdown",
      "source": [
        "# Turning tha Raw Data to a format apropriate for machine learning tools"
      ],
      "metadata": {
        "id": "l3yT1BO9xPPz"
      }
    },
    {
      "cell_type": "code",
      "source": [
        "heart_df['Diabetic'].replace('No, borderline diabetes', 1, inplace = True)\n",
        "heart_df['Diabetic'].replace('Yes', 2, inplace = True)\n",
        "heart_df['Diabetic'].replace('Yes (during pregnancy)', 3, inplace = True)\n",
        "heart_df['DiffWalking'].replace('Yes', 0, inplace = True)\n",
        "heart_df['DiffWalking'].replace('No', 1, inplace = True)\n",
        "heart_df.replace('Yes', 1, inplace = True)\n",
        "heart_df.replace('No', 0, inplace = True)\n",
        "heart_df['Sex'].replace(['Female', 'Male'], [0, 1], inplace = True)\n",
        "heart_df['Race'].replace(['White', 'Hispanic', 'Black', 'Other', 'Asian', 'American Indian/Alaskan Native'], [1, 2, 3, 4, 5, 6] , inplace = True)\n",
        "heart_df['GenHealth'].replace(['Very good','Good', 'Excellent', 'Fair', 'Poor'], [5, 4, 3, 2, 1], inplace = True)\n",
        "heart_df['AgeCategory'].replace(['18-24','25-29', '30-34', '35-39', '40-44', '45-49', '50-54', '55-59', '60-64', '65-69', '70-74', '75-79', '80 or older'], [1, 2, 3, 4, 5, 6, 7, 8, 9, 10, 11, 12, 13], inplace = True)"
      ],
      "metadata": {
        "id": "ONpJV3EHNnCf"
      },
      "execution_count": 6,
      "outputs": []
    },
    {
      "cell_type": "code",
      "source": [
        "y_heart = heart_df['HeartDisease']"
      ],
      "metadata": {
        "id": "4sc9mjJdaGHQ"
      },
      "execution_count": 7,
      "outputs": []
    },
    {
      "cell_type": "code",
      "source": [
        "x_heart = heart_df.drop('HeartDisease', axis=1)"
      ],
      "metadata": {
        "id": "63dMHdc4aQwx"
      },
      "execution_count": 8,
      "outputs": []
    },
    {
      "cell_type": "code",
      "source": [
        "from sklearn.model_selection import train_test_split"
      ],
      "metadata": {
        "id": "Aiod7hMaa8Ax"
      },
      "execution_count": 9,
      "outputs": []
    },
    {
      "cell_type": "code",
      "source": [
        "x_train, x_test, y_train, y_test = train_test_split(x_heart, y_heart, test_size=0.3, random_state=1)"
      ],
      "metadata": {
        "id": "LnN_zA17a9m4"
      },
      "execution_count": 10,
      "outputs": []
    },
    {
      "cell_type": "markdown",
      "source": [
        "# Using sklearn tools to predict the model"
      ],
      "metadata": {
        "id": "HXeykg_1x1Xz"
      }
    },
    {
      "cell_type": "code",
      "source": [
        "from sklearn.naive_bayes import GaussianNB\n",
        "model = GaussianNB()\n",
        "model.fit(x_train, y_train)"
      ],
      "metadata": {
        "colab": {
          "base_uri": "https://localhost:8080/"
        },
        "id": "rCF9_ngMbZlY",
        "outputId": "cbfeb645-b2a5-4f49-f70c-180a29e1533f"
      },
      "execution_count": 11,
      "outputs": [
        {
          "output_type": "execute_result",
          "data": {
            "text/plain": [
              "GaussianNB()"
            ]
          },
          "metadata": {},
          "execution_count": 11
        }
      ]
    },
    {
      "cell_type": "markdown",
      "source": [
        "# Creating a function to measure the accuracy of the model"
      ],
      "metadata": {
        "id": "f1t7DPH1yAQL"
      }
    },
    {
      "cell_type": "code",
      "source": [
        "y_pred = model.predict(x_train)\n",
        "sum(y_pred == y_test) / len(y_pred)"
      ],
      "metadata": {
        "id": "YZ8wf9c_AmUC"
      },
      "execution_count": null,
      "outputs": []
    },
    {
      "cell_type": "code",
      "source": [
        "y_pred = model.predict(x_test)\n",
        "sum(y_pred == y_test) / len(y_pred)"
      ],
      "metadata": {
        "colab": {
          "base_uri": "https://localhost:8080/"
        },
        "id": "6J6Z6n8sbkwo",
        "outputId": "92234368-f3c7-4071-dc6f-f3df4ff91dc7"
      },
      "execution_count": 13,
      "outputs": [
        {
          "output_type": "execute_result",
          "data": {
            "text/plain": [
              "0.8446095956805887"
            ]
          },
          "metadata": {},
          "execution_count": 13
        }
      ]
    },
    {
      "cell_type": "markdown",
      "source": [
        "# Using a predefined function in sklearn library to measure the accuracy of model"
      ],
      "metadata": {
        "id": "7CSucQ5OyJ5S"
      }
    },
    {
      "cell_type": "code",
      "source": [
        "from sklearn.metrics import accuracy_score\n",
        "accuracy_score(y_test, y_pred)"
      ],
      "metadata": {
        "colab": {
          "base_uri": "https://localhost:8080/"
        },
        "id": "MUGJvGN2cCbh",
        "outputId": "4825cd8a-cb8d-42d3-faf3-57a33855ed27"
      },
      "execution_count": 14,
      "outputs": [
        {
          "output_type": "execute_result",
          "data": {
            "text/plain": [
              "0.8446095956805887"
            ]
          },
          "metadata": {},
          "execution_count": 14
        }
      ]
    },
    {
      "cell_type": "code",
      "source": [
        "from sklearn.tree import DecisionTreeClassifier\n",
        "model = DecisionTreeClassifier()\n",
        "model.fit(x_train, y_train)"
      ],
      "metadata": {
        "colab": {
          "base_uri": "https://localhost:8080/"
        },
        "id": "yxVCr4-0xMLd",
        "outputId": "1feddd1e-83a3-4edb-ff7d-8aa0ae2dd9b2"
      },
      "execution_count": 15,
      "outputs": [
        {
          "output_type": "execute_result",
          "data": {
            "text/plain": [
              "DecisionTreeClassifier()"
            ]
          },
          "metadata": {},
          "execution_count": 15
        }
      ]
    },
    {
      "cell_type": "code",
      "source": [
        "y_pred = model.predict(x_test)\n",
        "sum(y_pred == y_test) / len(y_pred)"
      ],
      "metadata": {
        "colab": {
          "base_uri": "https://localhost:8080/"
        },
        "id": "-_zjzQkXcRuA",
        "outputId": "a6e63c4b-d22d-4ad1-f023-1dbdb3dda520"
      },
      "execution_count": 16,
      "outputs": [
        {
          "output_type": "execute_result",
          "data": {
            "text/plain": [
              "0.8654978684372362"
            ]
          },
          "metadata": {},
          "execution_count": 16
        }
      ]
    },
    {
      "cell_type": "code",
      "source": [
        "CM = confusion_matrix(y_test, y_pred, normalize='all')\n",
        "CM"
      ],
      "metadata": {
        "colab": {
          "base_uri": "https://localhost:8080/"
        },
        "id": "LLaRkXPbgdzv",
        "outputId": "8615ce33-b3c2-4270-81c2-01920c4298fd"
      },
      "execution_count": 17,
      "outputs": [
        {
          "output_type": "execute_result",
          "data": {
            "text/plain": [
              "array([[0.84320245, 0.0719207 ],\n",
              "       [0.06258143, 0.02229542]])"
            ]
          },
          "metadata": {},
          "execution_count": 17
        }
      ]
    },
    {
      "cell_type": "markdown",
      "source": [
        "# Depicting distribution of differnet variables by histogram"
      ],
      "metadata": {
        "id": "zf5NSoSxyjKw"
      }
    },
    {
      "cell_type": "code",
      "source": [
        "heart_df.hist(bins=40,figsize=(10,10))\n",
        "plt.show()"
      ],
      "metadata": {
        "colab": {
          "base_uri": "https://localhost:8080/",
          "height": 773
        },
        "id": "8J-M8A6tcTXf",
        "outputId": "b855753b-bf41-4460-dd56-00f73d07235f"
      },
      "execution_count": 18,
      "outputs": [
        {
          "output_type": "error",
          "ename": "NameError",
          "evalue": "ignored",
          "traceback": [
            "\u001b[0;31m---------------------------------------------------------------------------\u001b[0m",
            "\u001b[0;31mNameError\u001b[0m                                 Traceback (most recent call last)",
            "\u001b[0;32m<ipython-input-18-6948ec67286a>\u001b[0m in \u001b[0;36m<module>\u001b[0;34m()\u001b[0m\n\u001b[1;32m      1\u001b[0m \u001b[0mheart_df\u001b[0m\u001b[0;34m.\u001b[0m\u001b[0mhist\u001b[0m\u001b[0;34m(\u001b[0m\u001b[0mbins\u001b[0m\u001b[0;34m=\u001b[0m\u001b[0;36m40\u001b[0m\u001b[0;34m,\u001b[0m\u001b[0mfigsize\u001b[0m\u001b[0;34m=\u001b[0m\u001b[0;34m(\u001b[0m\u001b[0;36m10\u001b[0m\u001b[0;34m,\u001b[0m\u001b[0;36m10\u001b[0m\u001b[0;34m)\u001b[0m\u001b[0;34m)\u001b[0m\u001b[0;34m\u001b[0m\u001b[0;34m\u001b[0m\u001b[0m\n\u001b[0;32m----> 2\u001b[0;31m \u001b[0mplt\u001b[0m\u001b[0;34m.\u001b[0m\u001b[0mshow\u001b[0m\u001b[0;34m(\u001b[0m\u001b[0;34m)\u001b[0m\u001b[0;34m\u001b[0m\u001b[0;34m\u001b[0m\u001b[0m\n\u001b[0m",
            "\u001b[0;31mNameError\u001b[0m: name 'plt' is not defined"
          ]
        },
        {
          "output_type": "display_data",
          "data": {
            "text/plain": [
              "<Figure size 720x720 with 20 Axes>"
            ],
            "image/png": "[encoded data removed]"
          },
          "metadata": {
            "needs_background": "light"
          }
        }
      ]
    },
    {
      "cell_type": "markdown",
      "source": [
        "# importing matplotlib to use it's data visualization functions"
      ],
      "metadata": {
        "id": "WUpl0r9OzDOK"
      }
    },
    {
      "cell_type": "code",
      "source": [
        "import matplotlib.pyplot as plt"
      ],
      "metadata": {
        "id": "07rABGTzq1PF"
      },
      "execution_count": 19,
      "outputs": []
    },
    {
      "cell_type": "markdown",
      "source": [
        "# illustrating correlation between different variables by using heatmap func."
      ],
      "metadata": {
        "id": "HLGol5Hmzin5"
      }
    },
    {
      "cell_type": "code",
      "source": [
        "plt.figure(figsize=(10,10))\n",
        "sb.heatmap(heart_df.corr())\n",
        "plt.show()"
      ],
      "metadata": {
        "id": "99dJZsy6wLZE",
        "colab": {
          "base_uri": "https://localhost:8080/",
          "height": 665
        },
        "outputId": "a042054f-69fb-409a-b658-76b18d7c47d9"
      },
      "execution_count": 20,
      "outputs": [
        {
          "output_type": "display_data",
          "data": {
            "text/plain": [
              "<Figure size 720x720 with 2 Axes>"
            ],
            "image/png": "[encoded data removed]"
          },
          "metadata": {
            "needs_background": "light"
          }
        }
      ]
    },
    {
      "cell_type": "code",
      "source": [
        "plt.plot(heart_df['BMI'],heart_df['HeartDisease'])\n",
        "plt.show()"
      ],
      "metadata": {
        "id": "txph3Dn-xpQz"
      },
      "execution_count": null,
      "outputs": []
    },
    {
      "cell_type": "code",
      "source": [
        "plt.figure(figsize=(10,6))\n",
        "plt.bar(heart_df['BMI'],heart_df['HeartDisease'])"
      ],
      "metadata": {
        "id": "2OLQgnWB0O_z"
      },
      "execution_count": null,
      "outputs": []
    },
    {
      "cell_type": "code",
      "source": [
        "heart_df['SleepTime'].value_counts()"
      ],
      "metadata": {
        "colab": {
          "base_uri": "https://localhost:8080/"
        },
        "id": "PZgt6QKjPyrF",
        "outputId": "a340b363-33b0-465f-8a40-05ffd7b3cb3d"
      },
      "execution_count": 21,
      "outputs": [
        {
          "output_type": "execute_result",
          "data": {
            "text/plain": [
              "7.0     97751\n",
              "8.0     97602\n",
              "6.0     66721\n",
              "5.0     19184\n",
              "9.0     16041\n",
              "10.0     7796\n",
              "4.0      7750\n",
              "12.0     2205\n",
              "3.0      1992\n",
              "2.0       788\n",
              "1.0       551\n",
              "11.0      415\n",
              "14.0      243\n",
              "16.0      236\n",
              "15.0      189\n",
              "18.0      102\n",
              "13.0       97\n",
              "20.0       64\n",
              "24.0       30\n",
              "17.0       21\n",
              "22.0        9\n",
              "19.0        3\n",
              "23.0        3\n",
              "21.0        2\n",
              "Name: SleepTime, dtype: int64"
            ]
          },
          "metadata": {},
          "execution_count": 21
        }
      ]
    },
    {
      "cell_type": "code",
      "source": [
        "heart_df.columns\n"
      ],
      "metadata": {
        "colab": {
          "base_uri": "https://localhost:8080/"
        },
        "id": "j4xS2_xEMA_I",
        "outputId": "a06d816f-da34-4dff-ca7d-fa99e3f3ef20"
      },
      "execution_count": 22,
      "outputs": [
        {
          "output_type": "execute_result",
          "data": {
            "text/plain": [
              "Index(['HeartDisease', 'BMI', 'Smoking', 'AlcoholDrinking', 'Stroke',\n",
              "       'PhysicalHealth', 'MentalHealth', 'DiffWalking', 'Sex', 'AgeCategory',\n",
              "       'Race', 'Diabetic', 'PhysicalActivity', 'GenHealth', 'SleepTime',\n",
              "       'Asthma', 'KidneyDisease', 'SkinCancer'],\n",
              "      dtype='object')"
            ]
          },
          "metadata": {},
          "execution_count": 22
        }
      ]
    },
    {
      "cell_type": "code",
      "source": [
        "plt.figure(figsize=(20,12))\n",
        "plt.scatter(heart_df['PhysicalHealth'], heart_df['SleepTime'], c=heart_df['HeartDisease'])"
      ],
      "metadata": {
        "id": "kzCjI5BtLZQR"
      },
      "execution_count": null,
      "outputs": []
    },
    {
      "cell_type": "markdown",
      "source": [
        "# The percentage of Smoking people is shown in orange color in comparison with non smoking poeple that is blue"
      ],
      "metadata": {
        "id": "62xiawncmWmP"
      }
    },
    {
      "cell_type": "code",
      "source": [
        "plt.figure(figsize=(15,8))\n",
        "def label_autopct(pct):\n",
        "  if pct>50:\n",
        "     return 'Non Smoking '+ str(pct)[:4]\n",
        "  return 'Smoking '+ str(pct)[:4]  \n",
        "plt.pie(heart_df['Smoking'].value_counts(),autopct=lambda x:label_autopct(x))\n",
        "labels = ['yes' , 'No']\n",
        "plt.legend(['Non Smoking', 'Smoking'])\n",
        "plt.show()"
      ],
      "metadata": {
        "colab": {
          "base_uri": "https://localhost:8080/",
          "height": 466
        },
        "id": "GbBJOSzDXPRU",
        "outputId": "a81673a8-0ad4-4b5c-effa-6d14cea61b20"
      },
      "execution_count": 45,
      "outputs": [
        {
          "output_type": "display_data",
          "data": {
            "text/plain": [
              "<Figure size 1080x576 with 1 Axes>"
            ],
            "image/png": "[encoded data removed]"
          },
          "metadata": {}
        }
      ]
    },
    {
      "cell_type": "code",
      "source": [
        "heart_df.groupby('AgeCategory').sum()"
      ],
      "metadata": {
        "colab": {
          "base_uri": "https://localhost:8080/",
          "height": 552
        },
        "id": "If1nVgJ2q-xv",
        "outputId": "f7d8b9a9-8995-4951-d5cd-b787dd690a87"
      },
      "execution_count": null,
      "outputs": [
        {
          "output_type": "execute_result",
          "data": {
            "text/plain": [
              "             HeartDisease        BMI  Smoking  AlcoholDrinking  Stroke  \\\n",
              "AgeCategory                                                              \n",
              "1                     130  542666.98     3284             1521      61   \n",
              "2                     133  469460.39     5154             1571      90   \n",
              "3                     226  533335.46     7172             1578     131   \n",
              "4                     296  592633.92     8642             1825     193   \n",
              "5                     486  613370.25     9081             1806     293   \n",
              "6                     744  642555.33     8725             1684     428   \n",
              "7                    1383  746867.81     9973             1959     685   \n",
              "8                    2202  865898.25    12672             2218    1101   \n",
              "9                    3327  970890.40    15436             2334    1483   \n",
              "10                   4101  979272.28    15563             2101    1705   \n",
              "11                   4847  875281.08    14925             1597    1891   \n",
              "12                   4049  592852.33    10754              901    1710   \n",
              "13                   5449  633236.34    10527              682    2298   \n",
              "\n",
              "             PhysicalHealth  MentalHealth  DiffWalking    Sex   Race  \\\n",
              "AgeCategory                                                            \n",
              "1                   35787.0      129597.0        20737  11630  37753   \n",
              "2                   30557.0       97137.0        16591   8999  29966   \n",
              "3                   37850.0       99251.0        18166   9623  32241   \n",
              "4                   46065.0      103773.0        19581  10092  34345   \n",
              "5                   54087.0       98207.0        19685  10054  34634   \n",
              "6                   65827.0       95569.0        19885  10353  35216   \n",
              "7                   91568.0      109695.0        22274  12047  39627   \n",
              "8                  119844.0      120693.0        25107  14270  44193   \n",
              "9                  145447.0      119604.0        27714  16114  48659   \n",
              "10                 131645.0       98614.0        28130  16103  47349   \n",
              "11                 121777.0       79606.0        24878  13976  41804   \n",
              "12                  89745.0       48986.0        16424   9292  27814   \n",
              "13                 108057.0       45946.0        16213   9437  30584   \n",
              "\n",
              "             Diabetic  PhysicalActivity  GenHealth  SleepTime  Asthma  \\\n",
              "AgeCategory                                                             \n",
              "1                 933             18062      83220   151375.0    3727   \n",
              "2                1109             14338      66844   118455.0    2868   \n",
              "3                2066             15758      73834   128883.0    2845   \n",
              "4                3033             16960      80206   140869.0    2879   \n",
              "5                3956             17066      81561   144457.0    3065   \n",
              "6                5192             17289      83801   150446.0    3135   \n",
              "7                7366             19744      96766   175749.0    3472   \n",
              "8               10142             22972     112274   207272.0    3943   \n",
              "9               12803             25575     126269   237793.0    4498   \n",
              "10              14431             26108     130109   245963.0    4120   \n",
              "11              14777             23252     117774   226984.0    3671   \n",
              "12              10389             15369      81163   159230.0    2404   \n",
              "13               9865             15464      89154   182133.0    2245   \n",
              "\n",
              "             KidneyDisease  SkinCancer  \n",
              "AgeCategory                             \n",
              "1                      132          67  \n",
              "2                      115          83  \n",
              "3                      164         159  \n",
              "4                      256         263  \n",
              "5                      366         414  \n",
              "6                      451         773  \n",
              "7                      700        1289  \n",
              "8                      998        2188  \n",
              "9                     1372        3338  \n",
              "10                    1689        4608  \n",
              "11                    1970        5565  \n",
              "12                    1599        4837  \n",
              "13                    1967        6235  "
            ],
            "text/html": [
              "\n",
              "  <div id=\"df-73cc5f80-2c39-4cae-aacc-7653de7b5747\">\n",
              "    <div class=\"colab-df-container\">\n",
              "      <div>\n",
              "<style scoped>\n",
              "    .dataframe tbody tr th:only-of-type {\n",
              "        vertical-align: middle;\n",
              "    }\n",
              "\n",
              "    .dataframe tbody tr th {\n",
              "        vertical-align: top;\n",
              "    }\n",
              "\n",
              "    .dataframe thead th {\n",
              "        text-align: right;\n",
              "    }\n",
              "</style>\n",
              "<table border=\"1\" class=\"dataframe\">\n",
              "  <thead>\n",
              "    <tr style=\"text-align: right;\">\n",
              "      <th></th>\n",
              "      <th>HeartDisease</th>\n",
              "      <th>BMI</th>\n",
              "      <th>Smoking</th>\n",
              "      <th>AlcoholDrinking</th>\n",
              "      <th>Stroke</th>\n",
              "      <th>PhysicalHealth</th>\n",
              "      <th>MentalHealth</th>\n",
              "      <th>DiffWalking</th>\n",
              "      <th>Sex</th>\n",
              "      <th>Race</th>\n",
              "      <th>Diabetic</th>\n",
              "      <th>PhysicalActivity</th>\n",
              "      <th>GenHealth</th>\n",
              "      <th>SleepTime</th>\n",
              "      <th>Asthma</th>\n",
              "      <th>KidneyDisease</th>\n",
              "      <th>SkinCancer</th>\n",
              "    </tr>\n",
              "    <tr>\n",
              "      <th>AgeCategory</th>\n",
              "      <th></th>\n",
              "      <th></th>\n",
              "      <th></th>\n",
              "      <th></th>\n",
              "      <th></th>\n",
              "      <th></th>\n",
              "      <th></th>\n",
              "      <th></th>\n",
              "      <th></th>\n",
              "      <th></th>\n",
              "      <th></th>\n",
              "      <th></th>\n",
              "      <th></th>\n",
              "      <th></th>\n",
              "      <th></th>\n",
              "      <th></th>\n",
              "      <th></th>\n",
              "    </tr>\n",
              "  </thead>\n",
              "  <tbody>\n",
              "    <tr>\n",
              "      <th>1</th>\n",
              "      <td>130</td>\n",
              "      <td>542666.98</td>\n",
              "      <td>3284</td>\n",
              "      <td>1521</td>\n",
              "      <td>61</td>\n",
              "      <td>35787.0</td>\n",
              "      <td>129597.0</td>\n",
              "      <td>20737</td>\n",
              "      <td>11630</td>\n",
              "      <td>37753</td>\n",
              "      <td>933</td>\n",
              "      <td>18062</td>\n",
              "      <td>83220</td>\n",
              "      <td>151375.0</td>\n",
              "      <td>3727</td>\n",
              "      <td>132</td>\n",
              "      <td>67</td>\n",
              "    </tr>\n",
              "    <tr>\n",
              "      <th>2</th>\n",
              "      <td>133</td>\n",
              "      <td>469460.39</td>\n",
              "      <td>5154</td>\n",
              "      <td>1571</td>\n",
              "      <td>90</td>\n",
              "      <td>30557.0</td>\n",
              "      <td>97137.0</td>\n",
              "      <td>16591</td>\n",
              "      <td>8999</td>\n",
              "      <td>29966</td>\n",
              "      <td>1109</td>\n",
              "      <td>14338</td>\n",
              "      <td>66844</td>\n",
              "      <td>118455.0</td>\n",
              "      <td>2868</td>\n",
              "      <td>115</td>\n",
              "      <td>83</td>\n",
              "    </tr>\n",
              "    <tr>\n",
              "      <th>3</th>\n",
              "      <td>226</td>\n",
              "      <td>533335.46</td>\n",
              "      <td>7172</td>\n",
              "      <td>1578</td>\n",
              "      <td>131</td>\n",
              "      <td>37850.0</td>\n",
              "      <td>99251.0</td>\n",
              "      <td>18166</td>\n",
              "      <td>9623</td>\n",
              "      <td>32241</td>\n",
              "      <td>2066</td>\n",
              "      <td>15758</td>\n",
              "      <td>73834</td>\n",
              "      <td>128883.0</td>\n",
              "      <td>2845</td>\n",
              "      <td>164</td>\n",
              "      <td>159</td>\n",
              "    </tr>\n",
              "    <tr>\n",
              "      <th>4</th>\n",
              "      <td>296</td>\n",
              "      <td>592633.92</td>\n",
              "      <td>8642</td>\n",
              "      <td>1825</td>\n",
              "      <td>193</td>\n",
              "      <td>46065.0</td>\n",
              "      <td>103773.0</td>\n",
              "      <td>19581</td>\n",
              "      <td>10092</td>\n",
              "      <td>34345</td>\n",
              "      <td>3033</td>\n",
              "      <td>16960</td>\n",
              "      <td>80206</td>\n",
              "      <td>140869.0</td>\n",
              "      <td>2879</td>\n",
              "      <td>256</td>\n",
              "      <td>263</td>\n",
              "    </tr>\n",
              "    <tr>\n",
              "      <th>5</th>\n",
              "      <td>486</td>\n",
              "      <td>613370.25</td>\n",
              "      <td>9081</td>\n",
              "      <td>1806</td>\n",
              "      <td>293</td>\n",
              "      <td>54087.0</td>\n",
              "      <td>98207.0</td>\n",
              "      <td>19685</td>\n",
              "      <td>10054</td>\n",
              "      <td>34634</td>\n",
              "      <td>3956</td>\n",
              "      <td>17066</td>\n",
              "      <td>81561</td>\n",
              "      <td>144457.0</td>\n",
              "      <td>3065</td>\n",
              "      <td>366</td>\n",
              "      <td>414</td>\n",
              "    </tr>\n",
              "    <tr>\n",
              "      <th>6</th>\n",
              "      <td>744</td>\n",
              "      <td>642555.33</td>\n",
              "      <td>8725</td>\n",
              "      <td>1684</td>\n",
              "      <td>428</td>\n",
              "      <td>65827.0</td>\n",
              "      <td>95569.0</td>\n",
              "      <td>19885</td>\n",
              "      <td>10353</td>\n",
              "      <td>35216</td>\n",
              "      <td>5192</td>\n",
              "      <td>17289</td>\n",
              "      <td>83801</td>\n",
              "      <td>150446.0</td>\n",
              "      <td>3135</td>\n",
              "      <td>451</td>\n",
              "      <td>773</td>\n",
              "    </tr>\n",
              "    <tr>\n",
              "      <th>7</th>\n",
              "      <td>1383</td>\n",
              "      <td>746867.81</td>\n",
              "      <td>9973</td>\n",
              "      <td>1959</td>\n",
              "      <td>685</td>\n",
              "      <td>91568.0</td>\n",
              "      <td>109695.0</td>\n",
              "      <td>22274</td>\n",
              "      <td>12047</td>\n",
              "      <td>39627</td>\n",
              "      <td>7366</td>\n",
              "      <td>19744</td>\n",
              "      <td>96766</td>\n",
              "      <td>175749.0</td>\n",
              "      <td>3472</td>\n",
              "      <td>700</td>\n",
              "      <td>1289</td>\n",
              "    </tr>\n",
              "    <tr>\n",
              "      <th>8</th>\n",
              "      <td>2202</td>\n",
              "      <td>865898.25</td>\n",
              "      <td>12672</td>\n",
              "      <td>2218</td>\n",
              "      <td>1101</td>\n",
              "      <td>119844.0</td>\n",
              "      <td>120693.0</td>\n",
              "      <td>25107</td>\n",
              "      <td>14270</td>\n",
              "      <td>44193</td>\n",
              "      <td>10142</td>\n",
              "      <td>22972</td>\n",
              "      <td>112274</td>\n",
              "      <td>207272.0</td>\n",
              "      <td>3943</td>\n",
              "      <td>998</td>\n",
              "      <td>2188</td>\n",
              "    </tr>\n",
              "    <tr>\n",
              "      <th>9</th>\n",
              "      <td>3327</td>\n",
              "      <td>970890.40</td>\n",
              "      <td>15436</td>\n",
              "      <td>2334</td>\n",
              "      <td>1483</td>\n",
              "      <td>145447.0</td>\n",
              "      <td>119604.0</td>\n",
              "      <td>27714</td>\n",
              "      <td>16114</td>\n",
              "      <td>48659</td>\n",
              "      <td>12803</td>\n",
              "      <td>25575</td>\n",
              "      <td>126269</td>\n",
              "      <td>237793.0</td>\n",
              "      <td>4498</td>\n",
              "      <td>1372</td>\n",
              "      <td>3338</td>\n",
              "    </tr>\n",
              "    <tr>\n",
              "      <th>10</th>\n",
              "      <td>4101</td>\n",
              "      <td>979272.28</td>\n",
              "      <td>15563</td>\n",
              "      <td>2101</td>\n",
              "      <td>1705</td>\n",
              "      <td>131645.0</td>\n",
              "      <td>98614.0</td>\n",
              "      <td>28130</td>\n",
              "      <td>16103</td>\n",
              "      <td>47349</td>\n",
              "      <td>14431</td>\n",
              "      <td>26108</td>\n",
              "      <td>130109</td>\n",
              "      <td>245963.0</td>\n",
              "      <td>4120</td>\n",
              "      <td>1689</td>\n",
              "      <td>4608</td>\n",
              "    </tr>\n",
              "    <tr>\n",
              "      <th>11</th>\n",
              "      <td>4847</td>\n",
              "      <td>875281.08</td>\n",
              "      <td>14925</td>\n",
              "      <td>1597</td>\n",
              "      <td>1891</td>\n",
              "      <td>121777.0</td>\n",
              "      <td>79606.0</td>\n",
              "      <td>24878</td>\n",
              "      <td>13976</td>\n",
              "      <td>41804</td>\n",
              "      <td>14777</td>\n",
              "      <td>23252</td>\n",
              "      <td>117774</td>\n",
              "      <td>226984.0</td>\n",
              "      <td>3671</td>\n",
              "      <td>1970</td>\n",
              "      <td>5565</td>\n",
              "    </tr>\n",
              "    <tr>\n",
              "      <th>12</th>\n",
              "      <td>4049</td>\n",
              "      <td>592852.33</td>\n",
              "      <td>10754</td>\n",
              "      <td>901</td>\n",
              "      <td>1710</td>\n",
              "      <td>89745.0</td>\n",
              "      <td>48986.0</td>\n",
              "      <td>16424</td>\n",
              "      <td>9292</td>\n",
              "      <td>27814</td>\n",
              "      <td>10389</td>\n",
              "      <td>15369</td>\n",
              "      <td>81163</td>\n",
              "      <td>159230.0</td>\n",
              "      <td>2404</td>\n",
              "      <td>1599</td>\n",
              "      <td>4837</td>\n",
              "    </tr>\n",
              "    <tr>\n",
              "      <th>13</th>\n",
              "      <td>5449</td>\n",
              "      <td>633236.34</td>\n",
              "      <td>10527</td>\n",
              "      <td>682</td>\n",
              "      <td>2298</td>\n",
              "      <td>108057.0</td>\n",
              "      <td>45946.0</td>\n",
              "      <td>16213</td>\n",
              "      <td>9437</td>\n",
              "      <td>30584</td>\n",
              "      <td>9865</td>\n",
              "      <td>15464</td>\n",
              "      <td>89154</td>\n",
              "      <td>182133.0</td>\n",
              "      <td>2245</td>\n",
              "      <td>1967</td>\n",
              "      <td>6235</td>\n",
              "    </tr>\n",
              "  </tbody>\n",
              "</table>\n",
              "</div>\n",
              "      <button class=\"colab-df-convert\" onclick=\"convertToInteractive('df-73cc5f80-2c39-4cae-aacc-7653de7b5747')\"\n",
              "              title=\"Convert this dataframe to an interactive table.\"\n",
              "              style=\"display:none;\">\n",
              "        \n",
              "  <svg xmlns=\"http://www.w3.org/2000/svg\" height=\"24px\"viewBox=\"0 0 24 24\"\n",
              "       width=\"24px\">\n",
              "    <path d=\"M0 0h24v24H0V0z\" fill=\"none\"/>\n",
              "    <path d=\"M18.56 5.44l.94 2.06.94-2.06 2.06-.94-2.06-.94-.94-2.06-.94 2.06-2.06.94zm-11 1L8.5 8.5l.94-2.06 2.06-.94-2.06-.94L8.5 2.5l-.94 2.06-2.06.94zm10 10l.94 2.06.94-2.06 2.06-.94-2.06-.94-.94-2.06-.94 2.06-2.06.94z\"/><path d=\"M17.41 7.96l-1.37-1.37c-.4-.4-.92-.59-1.43-.59-.52 0-1.04.2-1.43.59L10.3 9.45l-7.72 7.72c-.78.78-.78 2.05 0 2.83L4 21.41c.39.39.9.59 1.41.59.51 0 1.02-.2 1.41-.59l7.78-7.78 2.81-2.81c.8-.78.8-2.07 0-2.86zM5.41 20L4 18.59l7.72-7.72 1.47 1.35L5.41 20z\"/>\n",
              "  </svg>\n",
              "      </button>\n",
              "      \n",
              "  <style>\n",
              "    .colab-df-container {\n",
              "      display:flex;\n",
              "      flex-wrap:wrap;\n",
              "      gap: 12px;\n",
              "    }\n",
              "\n",
              "    .colab-df-convert {\n",
              "      background-color: #E8F0FE;\n",
              "      border: none;\n",
              "      border-radius: 50%;\n",
              "      cursor: pointer;\n",
              "      display: none;\n",
              "      fill: #1967D2;\n",
              "      height: 32px;\n",
              "      padding: 0 0 0 0;\n",
              "      width: 32px;\n",
              "    }\n",
              "\n",
              "    .colab-df-convert:hover {\n",
              "      background-color: #E2EBFA;\n",
              "      box-shadow: 0px 1px 2px rgba(60, 64, 67, 0.3), 0px 1px 3px 1px rgba(60, 64, 67, 0.15);\n",
              "      fill: #174EA6;\n",
              "    }\n",
              "\n",
              "    [theme=dark] .colab-df-convert {\n",
              "      background-color: #3B4455;\n",
              "      fill: #D2E3FC;\n",
              "    }\n",
              "\n",
              "    [theme=dark] .colab-df-convert:hover {\n",
              "      background-color: #434B5C;\n",
              "      box-shadow: 0px 1px 3px 1px rgba(0, 0, 0, 0.15);\n",
              "      filter: drop-shadow(0px 1px 2px rgba(0, 0, 0, 0.3));\n",
              "      fill: #FFFFFF;\n",
              "    }\n",
              "  </style>\n",
              "\n",
              "      <script>\n",
              "        const buttonEl =\n",
              "          document.querySelector('#df-73cc5f80-2c39-4cae-aacc-7653de7b5747 button.colab-df-convert');\n",
              "        buttonEl.style.display =\n",
              "          google.colab.kernel.accessAllowed ? 'block' : 'none';\n",
              "\n",
              "        async function convertToInteractive(key) {\n",
              "          const element = document.querySelector('#df-73cc5f80-2c39-4cae-aacc-7653de7b5747');\n",
              "          const dataTable =\n",
              "            await google.colab.kernel.invokeFunction('convertToInteractive',\n",
              "                                                     [key], {});\n",
              "          if (!dataTable) return;\n",
              "\n",
              "          const docLinkHtml = 'Like what you see? Visit the ' +\n",
              "            '<a target=\"_blank\" href=https://colab.research.google.com/notebooks/data_table.ipynb>data table notebook</a>'\n",
              "            + ' to learn more about interactive tables.';\n",
              "          element.innerHTML = '';\n",
              "          dataTable['output_type'] = 'display_data';\n",
              "          await google.colab.output.renderOutput(dataTable, element);\n",
              "          const docLink = document.createElement('div');\n",
              "          docLink.innerHTML = docLinkHtml;\n",
              "          element.appendChild(docLink);\n",
              "        }\n",
              "      </script>\n",
              "    </div>\n",
              "  </div>\n",
              "  "
            ]
          },
          "metadata": {},
          "execution_count": 90
        }
      ]
    },
    {
      "cell_type": "markdown",
      "source": [
        "# One of intresting points is the percentage of Smoking people in different Age Categories"
      ],
      "metadata": {
        "id": "yxK8SW83m3Im"
      }
    },
    {
      "cell_type": "code",
      "source": [
        "temp = heart_df.groupby('AgeCategory').sum()\n",
        "plt.figure(figsize=(15,8))\n",
        "plt.pie(temp['Smoking'], labels='age ' + Age_Cat.index, autopct=lambda x:str(x)[:4])\n",
        "plt.show()"
      ],
      "metadata": {
        "colab": {
          "base_uri": "https://localhost:8080/",
          "height": 466
        },
        "id": "Tc3ONqX3rCoB",
        "outputId": "581e1056-ff88-412e-dcbd-bd6800276489"
      },
      "execution_count": null,
      "outputs": [
        {
          "output_type": "display_data",
          "data": {
            "text/plain": [
              "<Figure size 1080x576 with 1 Axes>"
            ],
            "image/png": "[encoded data removed]"
          },
          "metadata": {}
        }
      ]
    }
  ]
}